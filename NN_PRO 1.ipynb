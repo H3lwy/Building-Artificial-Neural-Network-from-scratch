{
  "cells": [
    {
      "cell_type": "code",
      "source": [
        "import pandas as pd\n",
        "import numpy as np\n",
        "import torch\n",
        "import torch.nn as nn\n",
        "import torch.optim as optim\n",
        "from sklearn.model_selection import train_test_split\n",
        "import matplotlib.pyplot as plt"
      ],
      "metadata": {
        "id": "Ct8K7y-c1QS8"
      },
      "execution_count": 22,
      "outputs": []
    },
    {
      "cell_type": "code",
      "source": [
        "train_data = pd.read_csv('mnist_train.csv')\n",
        "test_data = pd.read_csv('mnist_test.csv')"
      ],
      "metadata": {
        "id": "hEv3vV651tVv"
      },
      "execution_count": 23,
      "outputs": []
    },
    {
      "cell_type": "code",
      "source": [
        "train_labels = train_data['label']\n",
        "train_features = train_data.drop('label', axis=1)"
      ],
      "metadata": {
        "id": "c_B62s7y1u6W"
      },
      "execution_count": 24,
      "outputs": []
    },
    {
      "cell_type": "code",
      "source": [
        "test_labels = test_data['label']\n",
        "test_features = test_data.drop('label', axis=1)"
      ],
      "metadata": {
        "id": "6Uvi2IqN1wFd"
      },
      "execution_count": 25,
      "outputs": []
    },
    {
      "cell_type": "code",
      "source": [
        "train_features = np.array(train_features) / 255.0\n",
        "train_labels = np.array(train_labels)"
      ],
      "metadata": {
        "id": "_p9121IU1xWy"
      },
      "execution_count": 26,
      "outputs": []
    },
    {
      "cell_type": "code",
      "source": [
        "test_features = np.array(test_features) / 255.0\n",
        "test_labels = np.array(test_labels)"
      ],
      "metadata": {
        "id": "jruBuWrZ1yvK"
      },
      "execution_count": 27,
      "outputs": []
    },
    {
      "cell_type": "code",
      "source": [
        "train_features, val_features, train_labels, val_labels = train_test_split(train_features, train_labels, test_size=0.2, random_state=42)"
      ],
      "metadata": {
        "id": "U5dP4f0V10Hc"
      },
      "execution_count": 28,
      "outputs": []
    },
    {
      "cell_type": "code",
      "source": [
        "train_features = torch.from_numpy(train_features).type(torch.FloatTensor)\n",
        "train_labels = torch.from_numpy(train_labels).type(torch.LongTensor)\n",
        "\n",
        "val_features = torch.from_numpy(val_features).type(torch.FloatTensor)\n",
        "val_labels = torch.from_numpy(val_labels).type(torch.LongTensor)\n",
        "\n",
        "test_features = torch.from_numpy(test_features).type(torch.FloatTensor)\n",
        "test_labels = torch.from_numpy(test_labels).type(torch.LongTensor)"
      ],
      "metadata": {
        "id": "NjjBlYvJ11xy"
      },
      "execution_count": 29,
      "outputs": []
    },
    {
      "cell_type": "code",
      "source": [
        "class Net(nn.Module):\n",
        "    def __init__(self):\n",
        "        super(Net, self).__init__()\n",
        "        self.fc1 = nn.Linear(784, 256)\n",
        "        self.fc2 = nn.Linear(256, 128)\n",
        "        self.fc3 = nn.Linear(128, 10)\n",
        "        self.relu = nn.ReLU()\n",
        "        self.softmax = nn.LogSoftmax(dim=1)\n",
        "\n",
        "    def forward(self, x):\n",
        "        x = x.view(-1, 784)\n",
        "        x = self.relu(self.fc1(x))\n",
        "        x = self.relu(self.fc2(x))\n",
        "        x = self.softmax(self.fc3(x))\n",
        "        return x\n",
        "\n",
        "model = Net()"
      ],
      "metadata": {
        "id": "wQkjM-a515GU"
      },
      "execution_count": 30,
      "outputs": []
    },
    {
      "cell_type": "code",
      "source": [
        "criterion = nn.CrossEntropyLoss()\n",
        "optimizer = optim.Adam(model.parameters(), lr=0.01)"
      ],
      "metadata": {
        "id": "HOLVgxCX18SW"
      },
      "execution_count": 31,
      "outputs": []
    },
    {
      "cell_type": "code",
      "source": [
        "train_loss_list = []\n",
        "val_loss_list = []\n",
        "train_acc_list = []\n",
        "val_acc_list = []\n",
        "\n",
        "num_epochs = 10\n",
        "batch_size = 32\n",
        "\n",
        "train_dataset = torch.utils.data.TensorDataset(train_features, train_labels)\n",
        "train_loader = torch.utils.data.DataLoader(train_dataset, batch_size=batch_size, shuffle=True)\n",
        "\n",
        "val_dataset = torch.utils.data.TensorDataset(val_features, val_labels)\n",
        "val_loader = torch.utils.data.DataLoader(val_dataset, batch_size=batch_size, shuffle=False)\n",
        "\n",
        "for epoch in range(num_epochs):\n",
        "    train_loss = 0.0\n",
        "    train_total = 0\n",
        "    train_correct = 0\n",
        "    \n",
        "    val_loss = 0.0\n",
        "    val_total = 0\n",
        "    val_correct = 0\n",
        "    \n",
        "    model.train()\n",
        "    for i, (inputs, labels) in enumerate(train_loader):\n",
        "        optimizer.zero_grad()\n",
        "        outputs = model(inputs)\n",
        "        loss = criterion(outputs, labels)\n",
        "        loss.backward()\n",
        "        optimizer.step()\n",
        "        \n",
        "        train_loss += loss.item()\n",
        "        _, predicted = torch.max(outputs.data, 1)\n",
        "        train_total += labels.size(0)\n",
        "        train_correct += (predicted == labels).sum().item()\n",
        "    \n",
        "    model.eval()\n",
        "    for i, (inputs, labels) in enumerate(val_loader):\n",
        "        outputs = model(inputs)\n",
        "        loss = criterion(outputs, labels)\n",
        "        \n",
        "        if np.isnan(loss.item()):\n",
        "            continue\n",
        "        \n",
        "        val_loss += loss.item()\n",
        "        _, predicted = torch.max(outputs.data, 1)\n",
        "        val_total += labels.size(0)\n",
        "        val_correct += (predicted == labels).sum().item()\n",
        "    \n",
        "    train_loss_list.append(train_loss/len(train_loader))\n",
        "    val_loss_list.append(val_loss/len(val_loader))\n",
        "    train_acc_list.append(train_correct/train_total)\n",
        "    val_acc_list.append(val_correct/val_total)\n",
        "    \n",
        "    train_accuracy = train_correct / train_total if train_total != 0 else 0.0\n",
        "    val_accuracy = val_correct / val_total if val_total != 0 else 0.0\n",
        "\n",
        "    train_acc_list.append(train_accuracy)\n",
        "    val_acc_list.append(val_accuracy)\n",
        "    print('Epoch [{}/{}], Training Loss: {:.4f}, Validation Loss: {:.4f}, Training Accuracy: {:.4f}, Validation Accuracy: {:.4f}'.format(epoch+1, num_epochs, train_loss/len(train_loader), val_loss/len(val_loader), train_correct/train_total, val_correct/val_total))\n",
        "    "
      ],
      "metadata": {
        "colab": {
          "base_uri": "https://localhost:8080/"
        },
        "id": "I4toRN-d192H",
        "outputId": "d41bbe9e-b16a-4c65-cda7-68e764421558"
      },
      "execution_count": null,
      "outputs": [
        {
          "output_type": "stream",
          "name": "stdout",
          "text": [
            "Epoch [1/10], Training Loss: 0.0928, Validation Loss: 0.2407, Training Accuracy: 0.9794, Validation Accuracy: 0.9570\n",
            "Epoch [2/10], Training Loss: 0.0842, Validation Loss: 0.2038, Training Accuracy: 0.9803, Validation Accuracy: 0.9675\n",
            "Epoch [3/10], Training Loss: 0.0830, Validation Loss: 0.2576, Training Accuracy: 0.9816, Validation Accuracy: 0.9654\n",
            "Epoch [4/10], Training Loss: 0.0827, Validation Loss: 0.2751, Training Accuracy: 0.9814, Validation Accuracy: 0.9679\n"
          ]
        }
      ]
    },
    {
      "cell_type": "code",
      "source": [
        "print('Train Loss: {:.4f}, Train Accuracy: {:.4f}'.format(train_loss_list[-1], train_acc_list[-1]))\n",
        "print('Validation Loss: {:.4f}, Validation Accuracy: {:.4f}'.format(val_loss_list[-1], val_acc_list[-1]))"
      ],
      "metadata": {
        "id": "n2RPIYa04-Sl"
      },
      "execution_count": null,
      "outputs": []
    },
    {
      "cell_type": "code",
      "source": [
        "fig, axs = plt.subplots(2, 1, figsize=(10, 10))\n",
        "\n",
        "axs[0].plot(train_loss_list, label='Training Loss')\n",
        "axs[0].plot(val_loss_list, label='Validation Loss')\n",
        "axs[0].set_xlabel('Epoch')\n",
        "axs[0].set_ylabel('Loss')\n",
        "axs[0].legend()\n",
        "\n",
        "axs[1].plot(train_acc_list, label='Training Accuracy')\n",
        "axs[1].plot(val_acc_list, label='Validation Accuracy')\n",
        "axs[1].set_xlabel('Epoch')\n",
        "axs[1].set_ylabel('Accuracy')\n",
        "axs[1].legend()\n",
        "\n",
        "plt.show()"
      ],
      "metadata": {
        "id": "DVkPKrdT2JbE"
      },
      "execution_count": null,
      "outputs": []
    },
    {
      "cell_type": "code",
      "source": [
        "class Net1(nn.Module):\n",
        "    def __init__(self):\n",
        "        super(Net, self).__init__()\n",
        "        self.fc1 = nn.Linear(784, 256)\n",
        "        self.fc2 = nn.Linear(256, 128)\n",
        "        self.fc3 = nn.Linear(128, 10)\n",
        "        self.relu = nn.ReLU()\n",
        "        self.dropout = nn.Dropout(p=0.2)\n",
        "        self.layer_norm1 = nn.LayerNorm(256)\n",
        "        self.layer_norm2 = nn.LayerNorm(128)\n",
        "        self.softmax = nn.LogSoftmax(dim=1)\n",
        "\n",
        "    def forward(self, x):\n",
        "        x = x.view(-1, 784)\n",
        "        x = self.layer_norm1(self.relu(self.fc1(x)))\n",
        "        x = self.dropout(x)\n",
        "        x = self.layer_norm2(self.relu(self.fc2(x)))\n",
        "        x = self.dropout(x)\n",
        "        x = self.softmax(self.fc3(x))\n",
        "        return x\n",
        "\n",
        "model = Net1()"
      ],
      "metadata": {
        "id": "AVtzOlPD2XZK"
      },
      "execution_count": null,
      "outputs": []
    },
    {
      "cell_type": "code",
      "source": [
        "criterion = nn.CrossEntropyLoss()\n",
        "optimizer = optim.Adam(model.parameters(), lr=0.01)"
      ],
      "metadata": {
        "id": "6DXWnDqS3Bny"
      },
      "execution_count": null,
      "outputs": []
    },
    {
      "cell_type": "code",
      "source": [
        "train_loss_list = []\n",
        "val_loss_list = []\n",
        "train_acc_list = []\n",
        "val_acc_list = []\n",
        "\n",
        "num_epochs = 10\n",
        "batch_size = 32\n",
        "\n",
        "train_dataset = torch.utils.data.TensorDataset(train_features, train_labels)\n",
        "train_loader = torch.utils.data.DataLoader(train_dataset, batch_size=batch_size, shuffle=True)\n",
        "\n",
        "val_dataset = torch.utils.data.TensorDataset(val_features, val_labels)\n",
        "val_loader = torch.utils.data.DataLoader(val_dataset, batch_size=batch_size, shuffle=False)\n",
        "\n",
        "for epoch in range(num_epochs):\n",
        "    train_loss = 0.0\n",
        "    train_total = 0\n",
        "    train_correct = 0\n",
        "    \n",
        "    val_loss = 0.0\n",
        "    val_total = 0\n",
        "    val_correct = 0\n",
        "    \n",
        "    model.train()\n",
        "    for i, (inputs, labels) in enumerate(train_loader):\n",
        "        optimizer.zero_grad()\n",
        "        outputs = model(inputs)\n",
        "        loss = criterion(outputs, labels)\n",
        "        loss.backward()\n",
        "        optimizer.step()\n",
        "        \n",
        "        train_loss += loss.item()\n",
        "        _, predicted = torch.max(outputs.data, 1)\n",
        "        train_total += labels.size(0)\n",
        "        train_correct += (predicted == labels).sum().item()\n",
        "    \n",
        "    model.eval()\n",
        "    for i, (inputs, labels) in enumerate(val_loader):\n",
        "        outputs = model(inputs)\n",
        "        loss = criterion(outputs, labels)\n",
        "        \n",
        "        if np.isnan(loss.item()):\n",
        "            continue\n",
        "        \n",
        "        val_loss += loss.item()\n",
        "        _, predicted = torch.max(outputs.data, 1)\n",
        "        val_total += labels.size(0)\n",
        "        val_correct += (predicted == labels).sum().item()\n",
        "    \n",
        "    train_loss_list.append(train_loss/len(train_loader))\n",
        "    val_loss_list.append(val_loss/len(val_loader))\n",
        "    train_acc_list.append(train_correct/train_total)\n",
        "    val_acc_list.append(val_correct/val_total)\n",
        "    \n",
        "    train_accuracy = train_correct / train_total if train_total != 0 else 0.0\n",
        "    val_accuracy = val_correct / val_total if val_total != 0 else 0.0\n",
        "\n",
        "    train_acc_list.append(train_accuracy)\n",
        "    val_acc_list.append(val_accuracy)\n",
        "    print('Epoch [{}/{}], Training Loss: {:.4f}, Validation Loss: {:.4f}, Training Accuracy: {:.4f}, Validation Accuracy: {:.4f}'.format(epoch+1, num_epochs, train_loss/len(train_loader), val_loss/len(val_loader), train_correct/train_total, val_correct/val_total))"
      ],
      "metadata": {
        "id": "hg1MI7lG3Fyg"
      },
      "execution_count": null,
      "outputs": []
    },
    {
      "cell_type": "code",
      "source": [
        "print('Train Loss: {:.4f}, Train Accuracy: {:.4f}'.format(train_loss_list[-1], train_acc_list[-1]))\n",
        "print('Validation Loss: {:.4f}, Validation Accuracy: {:.4f}'.format(val_loss_list[-1], val_acc_list[-1]))"
      ],
      "metadata": {
        "id": "8oc9JZH15Dgc"
      },
      "execution_count": null,
      "outputs": []
    },
    {
      "cell_type": "code",
      "source": [
        "fig, axs = plt.subplots(2, 1, figsize=(10, 10))\n",
        "\n",
        "axs[0].plot(train_loss_list, label='Training Loss')\n",
        "axs[0].plot(val_loss_list, label='Validation Loss')\n",
        "axs[0].set_xlabel('Epoch')\n",
        "axs[0].set_ylabel('Loss')\n",
        "axs[0].legend()\n",
        "\n",
        "axs[1].plot(train_acc_list, label='Training Accuracy')\n",
        "axs[1].plot(val_acc_list, label='Validation Accuracy')\n",
        "axs[1].set_xlabel('Epoch')\n",
        "axs[1].set_ylabel('Accuracy')\n",
        "axs[1].legend()\n",
        "\n",
        "plt.show()"
      ],
      "metadata": {
        "id": "ohyWwLTp3M08"
      },
      "execution_count": null,
      "outputs": []
    },
    {
      "cell_type": "code",
      "source": [
        "class Net2(nn.Module):\n",
        "    def __init__(self, dropout_prob):\n",
        "        super(Net2, self).__init__()\n",
        "        self.fc1 = nn.Linear(784, 256)\n",
        "        self.fc2 = nn.Linear(256, 128)\n",
        "        self.fc3 = nn.Linear(128, 10)\n",
        "        self.relu = nn.ReLU()\n",
        "        self.dropout = nn.Dropout(p=dropout_prob)\n",
        "        self.layer_norm1 = nn.LayerNorm(256)\n",
        "        self.layer_norm2 = nn.LayerNorm(128)\n",
        "        self.softmax = nn.LogSoftmax(dim=1)\n",
        "\n",
        "    def forward(self, x):\n",
        "        x = x.view(-1, 784)\n",
        "        x = self.layer_norm1(self.relu(self.fc1(x)))\n",
        "        x = self.dropout(x)\n",
        "        x = self.layer_norm2(self.relu(self.fc2(x)))\n",
        "        x = self.dropout(x)\n",
        "        x = self.softmax(self.fc3(x))\n",
        "        return x"
      ],
      "metadata": {
        "id": "6yylIwTh3UUE"
      },
      "execution_count": null,
      "outputs": []
    },
    {
      "cell_type": "code",
      "source": [
        "learning_rates = [0.001, 0.0005, 0.0001]\n",
        "dropout_probs = [0.2, 0.4, 0.6]"
      ],
      "metadata": {
        "id": "QcqFtFue3YGk"
      },
      "execution_count": null,
      "outputs": []
    },
    {
      "cell_type": "code",
      "source": [
        "for lr in learning_rates:\n",
        "    for dropout_prob in dropout_probs:\n",
        "        print('Training model with learning rate={} and dropout probability={}'.format(lr, dropout_prob))\n",
        "        model = Net2(dropout_prob)\n",
        "        criterion = nn.CrossEntropyLoss()\n",
        "        optimizer = optim.Adam(model.parameters(), lr=lr)\n",
        "\n",
        "        train_loss_list = []\n",
        "        val_loss_list = []\n",
        "        train_acc_list = []\n",
        "        val_acc_list = []\n",
        "\n",
        "        num_epochs = 10\n",
        "        batch_size = 32\n",
        "\n",
        "        train_dataset = torch.utils.data.TensorDataset(train_features, train_labels)\n",
        "        train_loader = torch.utils.data.DataLoader(train_dataset, batch_size=batch_size, shuffle=True)\n",
        "\n",
        "        val_dataset = torch.utils.data.TensorDataset(val_features, val_labels)\n",
        "        val_loader = torch.utils.data.DataLoader(val_dataset, batch_size=batch_size, shuffle=False)\n",
        "\n",
        "        for epoch in range(num_epochs):\n",
        "            train_loss = 0.0\n",
        "            train_total = 0\n",
        "            train_correct = 0\n",
        "\n",
        "            val_loss = 0.0\n",
        "            val_total = 0\n",
        "            val_correct = 0\n",
        "\n",
        "            model.train()\n",
        "            for i, (inputs, labels) in enumerate(train_loader):\n",
        "                optimizer.zero_grad()\n",
        "                outputs = model(inputs)\n",
        "                loss = criterion(outputs, labels)\n",
        "                loss.backward()\n",
        "                optimizer.step()\n",
        "\n",
        "                train_loss += loss.item()\n",
        "                _, predicted = torch.max(outputs.data, 1)\n",
        "                train_total += labels.size(0)\n",
        "                train_correct += (predicted == labels).sum().item()\n",
        "\n",
        "            model.eval()\n",
        "            for i, (inputs, labels) in enumerate(val_loader):\n",
        "                outputs = model(inputs)\n",
        "                loss = criterion(outputs, labels)\n",
        "\n",
        "                if np.isnan(loss.item()):\n",
        "                    continue\n",
        "\n",
        "                val_loss += loss.item()\n",
        "                _, predicted = torch.max(outputs.data, 1)\n",
        "                val_total += labels.size(0)\n",
        "                val_correct += (predicted == labels).sum().item()\n",
        "\n",
        "            train_loss_list.append(train_loss/len(train_loader))\n",
        "            val_loss_list.append(val_loss/len(val_loader))\n",
        "            train_acc_list.append(train_correct/train_total)\n",
        "            val_acc_list.append(val_correct/val_total)\n",
        "            \n",
        "            train_accuracy = train_correct / train_total if train_total != 0 else 0.0\n",
        "            val_accuracy = val_correct / val_total if val_total != 0 else 0.0\n",
        "\n",
        "            train_acc_list.append(train_accuracy)\n",
        "            val_acc_list.append(val_accuracy)\n",
        "            \n",
        "            print('Epoch [{}/{}], Training Loss: {:.4f}, Validation Loss: {:.4f}, Training Accuracy: {:.4f}, Validation Accuracy: {:.4f}'.format(epoch+1, num_epochs, train_loss/len(train_loader), val_loss/len(val_loader), train_correct/train_total, val_correct/val_total))"
      ],
      "metadata": {
        "id": "8SeMnXVJ3Zbk"
      },
      "execution_count": null,
      "outputs": []
    },
    {
      "cell_type": "code",
      "source": [
        "print('Train Loss: {:.4f}, Train Accuracy: {:.4f}'.format(train_loss_list[-1], train_acc_list[-1]))\n",
        "print('Validation Loss: {:.4f}, Validation Accuracy: {:.4f}'.format(val_loss_list[-1], val_acc_list[-1]))"
      ],
      "metadata": {
        "id": "nd3545Kg5Fss"
      },
      "execution_count": null,
      "outputs": []
    },
    {
      "cell_type": "code",
      "source": [
        "fig, axs = plt.subplots(2, 1, figsize=(10, 10))\n",
        "\n",
        "axs[0].plot(train_loss_list, label='Training Loss')\n",
        "axs[0].plot(val_loss_list, label='Validation Loss')\n",
        "axs[0].set_xlabel('Epoch')\n",
        "axs[0].set_ylabel('Loss')\n",
        "axs[0].legend()\n",
        "\n",
        "axs[1].plot(train_acc_list, label='Training Accuracy')\n",
        "axs[1].plot(val_acc_list, label='Validation Accuracy')\n",
        "axs[1].set_xlabel('Epoch')\n",
        "axs[1].set_ylabel('Accuracy')\n",
        "axs[1].legend()\n",
        "\n",
        "plt.show()"
      ],
      "metadata": {
        "id": "QUO8g7kG3u8y"
      },
      "execution_count": null,
      "outputs": []
    }
  ],
  "metadata": {
    "accelerator": "GPU",
    "colab": {
      "provenance": []
    },
    "gpuClass": "standard",
    "kernelspec": {
      "display_name": "Python 3",
      "name": "python3"
    },
    "language_info": {
      "name": "python"
    }
  },
  "nbformat": 4,
  "nbformat_minor": 0
}